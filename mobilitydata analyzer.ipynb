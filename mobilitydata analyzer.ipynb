{
 "cells": [
  {
   "cell_type": "code",
   "execution_count": 3,
   "metadata": {},
   "outputs": [],
   "source": [
    "import pandas as pd\n",
    "from matplotlib import pyplot as plt\n",
    "import numpy as np\n",
    "import pandas as pd\n",
    "from collections import OrderedDict\n",
    "#import networkx as nx\n",
    "#import cartopy.crs as ccrs\n",
    "\n",
    "import geopandas as gpd\n",
    "#from descartes import PolygonPatch\n",
    "\n"
   ]
  },
  {
   "cell_type": "code",
   "execution_count": 4,
   "metadata": {},
   "outputs": [
    {
     "name": "stdout",
     "output_type": "stream",
     "text": [
      "reading data from xlsx files global mobility\n"
     ]
    }
   ],
   "source": [
    "print('reading data from xlsx files global mobility')\n",
    "data_gl = pd.read_excel('Global_Transnational_Mobility_dataset_v1_0.xlsx')\n"
   ]
  },
  {
   "cell_type": "code",
   "execution_count": 5,
   "metadata": {},
   "outputs": [
    {
     "name": "stdout",
     "output_type": "stream",
     "text": [
      "accessing the data\n"
     ]
    },
    {
     "ename": "NameError",
     "evalue": "name 'data_global_mob' is not defined",
     "output_type": "error",
     "traceback": [
      "\u001b[1;31m---------------------------------------------------------------------------\u001b[0m",
      "\u001b[1;31mNameError\u001b[0m                                 Traceback (most recent call last)",
      "\u001b[1;32m<ipython-input-5-bcd74bd1d5c7>\u001b[0m in \u001b[0;36m<module>\u001b[1;34m\u001b[0m\n\u001b[0;32m      1\u001b[0m \u001b[0mprint\u001b[0m\u001b[1;33m(\u001b[0m\u001b[1;34m'accessing the data'\u001b[0m\u001b[1;33m)\u001b[0m\u001b[1;33m\u001b[0m\u001b[1;33m\u001b[0m\u001b[0m\n\u001b[0;32m      2\u001b[0m \u001b[1;33m\u001b[0m\u001b[0m\n\u001b[1;32m----> 3\u001b[1;33m \u001b[0mdata_global_mob\u001b[0m\u001b[1;33m.\u001b[0m\u001b[0mtarget_name\u001b[0m\u001b[1;33m.\u001b[0m\u001b[0miloc\u001b[0m\u001b[1;33m[\u001b[0m\u001b[1;36m1\u001b[0m\u001b[1;33m]\u001b[0m\u001b[1;33m\u001b[0m\u001b[1;33m\u001b[0m\u001b[0m\n\u001b[0m",
      "\u001b[1;31mNameError\u001b[0m: name 'data_global_mob' is not defined"
     ]
    }
   ],
   "source": [
    "print('accessing the data')\n",
    "\n",
    "data_global_mob.target_name.iloc[1]"
   ]
  },
  {
   "cell_type": "code",
   "execution_count": null,
   "metadata": {},
   "outputs": [],
   "source": [
    "print('loading file for plotting')\n",
    "shapefile = 'data/countries_110m/ne_110m_admin_0_countries.shp'\n",
    "\n",
    "#Read shapefile using Geopandas\n",
    "gdf = gpd.read_file(shapefile)[['ADMIN', 'ADM0_A3', 'geometry']]\n",
    "\n",
    "#Rename columns.\n",
    "gdf.columns = ['country', 'country_code', 'geometry']\n",
    "gdf.head()"
   ]
  },
  {
   "cell_type": "code",
   "execution_count": null,
   "metadata": {},
   "outputs": [],
   "source": [
    "print('analyzing the data from Global mobility')\n",
    "print('plotting number of incoming flights per country as function of time (year)')\n"
   ]
  },
  {
   "cell_type": "code",
   "execution_count": null,
   "metadata": {},
   "outputs": [],
   "source": [
    "ind_data_in =data_gl.loc[data_gl['target_name'] == 'India']"
   ]
  },
  {
   "cell_type": "code",
   "execution_count": null,
   "metadata": {},
   "outputs": [],
   "source": [
    "type(ind_data_in)"
   ]
  },
  {
   "cell_type": "code",
   "execution_count": 21,
   "metadata": {},
   "outputs": [
    {
     "data": {
      "text/plain": [
       "'China'"
      ]
     },
     "execution_count": 21,
     "metadata": {},
     "output_type": "execute_result"
    }
   ],
   "source": [
    "ind_data_in.source_name.iloc[12]"
   ]
  },
  {
   "cell_type": "code",
   "execution_count": null,
   "metadata": {},
   "outputs": [],
   "source": [
    "print('calculating properties of new dataframe')\n",
    "\n",
    "len(ind_data_in.shape)"
   ]
  },
  {
   "cell_type": "code",
   "execution_count": 23,
   "metadata": {},
   "outputs": [
    {
     "data": {
      "text/plain": [
       "[<matplotlib.lines.Line2D at 0x2278b846cc0>]"
      ]
     },
     "execution_count": 23,
     "metadata": {},
     "output_type": "execute_result"
    },
    {
     "data": {
      "image/png": "[encoded data removed]",
      "text/plain": [
       "<Figure size 432x288 with 1 Axes>"
      ]
     },
     "metadata": {
      "needs_background": "light"
     },
     "output_type": "display_data"
    }
   ],
   "source": [
    "plt.plot(ind_data_in.estimated_trips, 'o')"
   ]
  },
  {
   "cell_type": "code",
   "execution_count": 25,
   "metadata": {},
   "outputs": [
    {
     "data": {
      "text/plain": [
       "539           229.0\n",
       "822        256595.0\n",
       "1101       482618.0\n",
       "2359         3728.0\n",
       "2797        98604.0\n",
       "2837          439.0\n",
       "2911            7.0\n",
       "3295          988.0\n",
       "3413         1326.0\n",
       "3546          219.0\n",
       "3573       482228.0\n",
       "3610         8424.0\n",
       "3636       890920.0\n",
       "3637         7466.0\n",
       "3814          232.0\n",
       "3817        21027.0\n",
       "3942         8173.0\n",
       "4121         1151.0\n",
       "4674        20446.0\n",
       "5790         2987.0\n",
       "5851        21600.0\n",
       "5911        15873.0\n",
       "6007          762.0\n",
       "6191           62.0\n",
       "6636         1495.0\n",
       "6770         1210.0\n",
       "7149         7121.0\n",
       "7387        12112.0\n",
       "7488         3467.0\n",
       "7737           74.0\n",
       "            ...    \n",
       "221853      15694.0\n",
       "222094        654.0\n",
       "222104       5246.0\n",
       "222282       5046.0\n",
       "222528      16431.0\n",
       "222850      96055.0\n",
       "222868      30962.0\n",
       "223207      12010.0\n",
       "223270     565516.0\n",
       "223622       1207.0\n",
       "223897      45407.0\n",
       "224065       8757.0\n",
       "224538       1029.0\n",
       "224676       3615.0\n",
       "225216       3282.0\n",
       "226147       4858.0\n",
       "226258       1001.0\n",
       "226507       1359.0\n",
       "226872     569065.0\n",
       "227222      80432.0\n",
       "227230       7511.0\n",
       "228111      13625.0\n",
       "228151        546.0\n",
       "228219       3054.0\n",
       "228302      89451.0\n",
       "228343      14255.0\n",
       "228412       6667.0\n",
       "228454      40800.0\n",
       "228455    1071933.0\n",
       "228555      57993.0\n",
       "Name: estimated_trips, Length: 1170, dtype: float64"
      ]
     },
     "execution_count": 25,
     "metadata": {},
     "output_type": "execute_result"
    }
   ],
   "source": [
    "ind_data_in.estimated_trips"
   ]
  },
  {
   "cell_type": "code",
   "execution_count": null,
   "metadata": {},
   "outputs": [],
   "source": [
    "\n",
    "ind_data_sort = ind_data_in.sort_values('year')\n",
    "\n"
   ]
  },
  {
   "cell_type": "code",
   "execution_count": null,
   "metadata": {},
   "outputs": [],
   "source": [
    "plt.plot(ind_data_sort.estimated_trips.values, 'o')"
   ]
  },
  {
   "cell_type": "code",
   "execution_count": 33,
   "metadata": {},
   "outputs": [
    {
     "data": {
      "text/plain": [
       "[<matplotlib.lines.Line2D at 0x2278a134550>]"
      ]
     },
     "execution_count": 33,
     "metadata": {},
     "output_type": "execute_result"
    },
    {
     "data": {
      "image/png": "[encoded data removed]",
      "text/plain": [
       "<Figure size 432x288 with 1 Axes>"
      ]
     },
     "metadata": {
      "needs_background": "light"
     },
     "output_type": "display_data"
    }
   ],
   "source": [
    "plt.plot(ind_data_sort.estimated_trips.values)"
   ]
  },
  {
   "cell_type": "code",
   "execution_count": null,
   "metadata": {},
   "outputs": [],
   "source": []
  }
 ],
 "metadata": {
  "kernelspec": {
   "display_name": "Python 3",
   "language": "python",
   "name": "python3"
  },
  "language_info": {
   "codemirror_mode": {
    "name": "ipython",
    "version": 3
   },
   "file_extension": ".py",
   "mimetype": "text/x-python",
   "name": "python",
   "nbconvert_exporter": "python",
   "pygments_lexer": "ipython3",
   "version": "3.7.3"
  }
 },
 "nbformat": 4,
 "nbformat_minor": 2
}
